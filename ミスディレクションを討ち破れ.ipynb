{
 "cells": [
  {
   "cell_type": "markdown",
   "metadata": {},
   "source": [
    "前準備\n",
    "- 動画ファイルからキャラの顔画像を抽出\n",
    "- 各画像に対する期待する答え（黒子であるか否か）を記したanswer.csvを作成"
   ]
  },
  {
   "cell_type": "markdown",
   "metadata": {},
   "source": [
    "#### openCV 画像処理ライブラリのインポート\n",
    "#### numpy 数値計算ライブラリのimport\n",
    "#### matplolib グラフ描画ライブラリのimport\n",
    "#### pandas データ処理用ライブラリのimport"
   ]
  },
  {
   "cell_type": "code",
   "execution_count": 48,
   "metadata": {},
   "outputs": [],
   "source": [
    "import cv2\n",
    "import numpy as np\n",
    "from matplotlib import pyplot as plt\n",
    "import pandas as pd"
   ]
  },
  {
   "cell_type": "code",
   "execution_count": 51,
   "metadata": {},
   "outputs": [],
   "source": [
    "# 教師データ（答え）の読込\n",
    "targets_data = pd.read_csv('answer.csv')"
   ]
  },
  {
   "cell_type": "code",
   "execution_count": 50,
   "metadata": {},
   "outputs": [],
   "source": [
    "# 画像データのピクセルデーターをimages配列に\n",
    "# ※扱いやすいようにグレースケールに画像を変換\n",
    "# https://algorithm.joho.info/image-processing/digital-imaging/\n",
    "\n",
    "images = []\n",
    "for i in range(300):\n",
    "    file = ('./images/original/img_%03d.png' % (i+1))\n",
    "    img = cv2.imread(file, cv2.IMREAD_GRAYSCALE)\n",
    "    images.append(img)\n",
    "    \n",
    "# 画像データを一次元配列に変換\n",
    "images_data = np.empty((300, len(images[0].ravel())), int)\n",
    "\n",
    "for i in range(300):\n",
    "    images_data[i] = np.array([images[i].ravel()])"
   ]
  },
  {
   "cell_type": "code",
   "execution_count": 52,
   "metadata": {},
   "outputs": [],
   "source": [
    "# ヒストグラム.Ver\n",
    "images_data  = np.empty((0, 256), int)\n",
    "\n",
    "for i in range(300):\n",
    "    file = ('./images/original/img_%03d.png' % (i+1))\n",
    "    img = cv2.imread(file, cv2.IMREAD_GRAYSCALE)\n",
    "    hist = np.histogram(img.ravel(), 256, [0,256])\n",
    "    images_data = np.append(images_data, np.array([hist[0]]), axis=0)\n"
   ]
  },
  {
   "cell_type": "markdown",
   "metadata": {},
   "source": [
    "#### 機械学習ライブラリのimport"
   ]
  },
  {
   "cell_type": "code",
   "execution_count": 53,
   "metadata": {},
   "outputs": [],
   "source": [
    "import sklearn\n",
    "from sklearn.model_selection import train_test_split\n",
    "from sklearn.neighbors import KNeighborsClassifier"
   ]
  },
  {
   "cell_type": "code",
   "execution_count": 54,
   "metadata": {},
   "outputs": [],
   "source": [
    "# テストデータ　と　教師データに分類\n",
    "X_train, X_test, y_train,y_test = train_test_split(images_data, targets_data['answer'], random_state=0)"
   ]
  },
  {
   "cell_type": "code",
   "execution_count": 55,
   "metadata": {},
   "outputs": [
    {
     "name": "stdout",
     "output_type": "stream",
     "text": [
      "(225, 256)\n",
      "(75, 256)\n",
      "(225,)\n",
      "(75,)\n"
     ]
    }
   ],
   "source": [
    "print(X_train.shape)\n",
    "print(X_test.shape)\n",
    "print(y_train.shape)\n",
    "print(y_test.shape)"
   ]
  },
  {
   "cell_type": "code",
   "execution_count": 56,
   "metadata": {},
   "outputs": [
    {
     "data": {
      "text/plain": [
       "KNeighborsClassifier(algorithm='auto', leaf_size=30, metric='minkowski',\n",
       "           metric_params=None, n_jobs=1, n_neighbors=1, p=2,\n",
       "           weights='uniform')"
      ]
     },
     "execution_count": 56,
     "metadata": {},
     "output_type": "execute_result"
    }
   ],
   "source": [
    "# アルゴリズムの適用\n",
    "knn = KNeighborsClassifier(n_neighbors=1)\n",
    "knn.fit(X_train, y_train)"
   ]
  },
  {
   "cell_type": "code",
   "execution_count": 57,
   "metadata": {},
   "outputs": [
    {
     "name": "stdout",
     "output_type": "stream",
     "text": [
      "[0 0 1 0 0 1 0 0 0 0 1 1 0 0 0 0 0 1 0 0 0 0 1 0 0 1 0 1 0 1 0 0 0 0 0 0 0\n",
      " 0 1 1 0 0 0 0 0 0 0 1 0 0 0 0 0 0 0 0 0 0 0 0 1 0 0 1 1 0 0 0 0 0 0 0 1 0\n",
      " 0]\n"
     ]
    }
   ],
   "source": [
    "# 予測モデルをテストデータに適用\n",
    "y_pred = knn.predict(X_test)\n",
    "\n",
    "#予測結果の出力\n",
    "print(y_pred)"
   ]
  },
  {
   "cell_type": "code",
   "execution_count": 58,
   "metadata": {},
   "outputs": [
    {
     "name": "stdout",
     "output_type": "stream",
     "text": [
      "0.8133333333333334\n"
     ]
    }
   ],
   "source": [
    "# 正答率の出力\n",
    "print(np.mean(y_pred == y_test))"
   ]
  },
  {
   "cell_type": "code",
   "execution_count": 18,
   "metadata": {},
   "outputs": [
    {
     "name": "stdout",
     "output_type": "stream",
     "text": [
      "[1]\n",
      "208    0\n",
      "188    0\n",
      "12     0\n",
      "221    0\n",
      "239    0\n",
      "136    0\n",
      "230    0\n",
      "206    0\n",
      "52     0\n",
      "108    1\n",
      "290    1\n",
      "15     1\n",
      "184    0\n",
      "248    0\n",
      "22     0\n",
      "74     0\n",
      "270    0\n",
      "90     0\n",
      "229    0\n",
      "164    0\n",
      "190    0\n",
      "103    0\n",
      "124    1\n",
      "129    1\n",
      "222    0\n",
      "116    0\n",
      "194    0\n",
      "286    1\n",
      "234    0\n",
      "295    1\n",
      "      ..\n",
      "139    1\n",
      "236    0\n",
      "64     0\n",
      "7      0\n",
      "45     0\n",
      "73     0\n",
      "213    0\n",
      "173    0\n",
      "106    0\n",
      "59     0\n",
      "253    0\n",
      "168    0\n",
      "26     0\n",
      "284    1\n",
      "153    0\n",
      "134    0\n",
      "145    0\n",
      "63     0\n",
      "293    1\n",
      "285    1\n",
      "224    0\n",
      "252    0\n",
      "111    1\n",
      "20     0\n",
      "46     0\n",
      "156    0\n",
      "228    0\n",
      "273    0\n",
      "27     0\n",
      "144    0\n",
      "Name: answer, Length: 75, dtype: int64\n"
     ]
    }
   ],
   "source": [
    "print(knn.predict(np.array([X_test[11]])))\n",
    "\n",
    "print(y_test)"
   ]
  },
  {
   "cell_type": "markdown",
   "metadata": {},
   "source": []
  }
 ],
 "metadata": {
  "kernelspec": {
   "display_name": "Python 3",
   "language": "python",
   "name": "python3"
  },
  "language_info": {
   "codemirror_mode": {
    "name": "ipython",
    "version": 3
   },
   "file_extension": ".py",
   "mimetype": "text/x-python",
   "name": "python",
   "nbconvert_exporter": "python",
   "pygments_lexer": "ipython3",
   "version": "3.7.0"
  }
 },
 "nbformat": 4,
 "nbformat_minor": 2
}
